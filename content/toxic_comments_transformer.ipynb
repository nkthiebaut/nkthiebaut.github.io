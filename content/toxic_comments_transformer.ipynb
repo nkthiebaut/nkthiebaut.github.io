{
  "nbformat": 4,
  "nbformat_minor": 0,
  "metadata": {
    "colab": {
      "name": "toxic_comments_transformer.ipynb",
      "provenance": [],
      "collapsed_sections": []
    },
    "kernelspec": {
      "name": "python3",
      "display_name": "Python 3"
    },
    "accelerator": "GPU",
    "widgets": {
      "application/vnd.jupyter.widget-state+json": {
        "1a68b8b5297c41619d15a716d9bdc048": {
          "model_module": "@jupyter-widgets/controls",
          "model_name": "HBoxModel",
          "state": {
            "_view_name": "HBoxView",
            "_dom_classes": [],
            "_model_name": "HBoxModel",
            "_view_module": "@jupyter-widgets/controls",
            "_model_module_version": "1.5.0",
            "_view_count": null,
            "_view_module_version": "1.5.0",
            "box_style": "",
            "layout": "IPY_MODEL_f33a11d8df0046ae919eb81c5a566fd3",
            "_model_module": "@jupyter-widgets/controls",
            "children": [
              "IPY_MODEL_9913133349f84d388d3fe1920d40cc90",
              "IPY_MODEL_ca9f14d9b18148b5bc86276cb2956362"
            ]
          }
        },
        "f33a11d8df0046ae919eb81c5a566fd3": {
          "model_module": "@jupyter-widgets/base",
          "model_name": "LayoutModel",
          "state": {
            "_view_name": "LayoutView",
            "grid_template_rows": null,
            "right": null,
            "justify_content": null,
            "_view_module": "@jupyter-widgets/base",
            "overflow": null,
            "_model_module_version": "1.2.0",
            "_view_count": null,
            "flex_flow": null,
            "width": null,
            "min_width": null,
            "border": null,
            "align_items": null,
            "bottom": null,
            "_model_module": "@jupyter-widgets/base",
            "top": null,
            "grid_column": null,
            "overflow_y": null,
            "overflow_x": null,
            "grid_auto_flow": null,
            "grid_area": null,
            "grid_template_columns": null,
            "flex": null,
            "_model_name": "LayoutModel",
            "justify_items": null,
            "grid_row": null,
            "max_height": null,
            "align_content": null,
            "visibility": null,
            "align_self": null,
            "height": null,
            "min_height": null,
            "padding": null,
            "grid_auto_rows": null,
            "grid_gap": null,
            "max_width": null,
            "order": null,
            "_view_module_version": "1.2.0",
            "grid_template_areas": null,
            "object_position": null,
            "object_fit": null,
            "grid_auto_columns": null,
            "margin": null,
            "display": null,
            "left": null
          }
        },
        "9913133349f84d388d3fe1920d40cc90": {
          "model_module": "@jupyter-widgets/controls",
          "model_name": "FloatProgressModel",
          "state": {
            "_view_name": "ProgressView",
            "style": "IPY_MODEL_207810de67434987a5cc303d93c5bf29",
            "_dom_classes": [],
            "description": "Downloading: 100%",
            "_model_name": "FloatProgressModel",
            "bar_style": "success",
            "max": 442,
            "_view_module": "@jupyter-widgets/controls",
            "_model_module_version": "1.5.0",
            "value": 442,
            "_view_count": null,
            "_view_module_version": "1.5.0",
            "orientation": "horizontal",
            "min": 0,
            "description_tooltip": null,
            "_model_module": "@jupyter-widgets/controls",
            "layout": "IPY_MODEL_fc32a96b13704edd868ea8dcc87b71fa"
          }
        },
        "ca9f14d9b18148b5bc86276cb2956362": {
          "model_module": "@jupyter-widgets/controls",
          "model_name": "HTMLModel",
          "state": {
            "_view_name": "HTMLView",
            "style": "IPY_MODEL_7955abcbbb664c0aa9b490b1a73a8a22",
            "_dom_classes": [],
            "description": "",
            "_model_name": "HTMLModel",
            "placeholder": "​",
            "_view_module": "@jupyter-widgets/controls",
            "_model_module_version": "1.5.0",
            "value": " 442/442 [00:30&lt;00:00, 14.7B/s]",
            "_view_count": null,
            "_view_module_version": "1.5.0",
            "description_tooltip": null,
            "_model_module": "@jupyter-widgets/controls",
            "layout": "IPY_MODEL_9e88babc09b141dcb0e699707c12153f"
          }
        },
        "207810de67434987a5cc303d93c5bf29": {
          "model_module": "@jupyter-widgets/controls",
          "model_name": "ProgressStyleModel",
          "state": {
            "_view_name": "StyleView",
            "_model_name": "ProgressStyleModel",
            "description_width": "initial",
            "_view_module": "@jupyter-widgets/base",
            "_model_module_version": "1.5.0",
            "_view_count": null,
            "_view_module_version": "1.2.0",
            "bar_color": null,
            "_model_module": "@jupyter-widgets/controls"
          }
        },
        "fc32a96b13704edd868ea8dcc87b71fa": {
          "model_module": "@jupyter-widgets/base",
          "model_name": "LayoutModel",
          "state": {
            "_view_name": "LayoutView",
            "grid_template_rows": null,
            "right": null,
            "justify_content": null,
            "_view_module": "@jupyter-widgets/base",
            "overflow": null,
            "_model_module_version": "1.2.0",
            "_view_count": null,
            "flex_flow": null,
            "width": null,
            "min_width": null,
            "border": null,
            "align_items": null,
            "bottom": null,
            "_model_module": "@jupyter-widgets/base",
            "top": null,
            "grid_column": null,
            "overflow_y": null,
            "overflow_x": null,
            "grid_auto_flow": null,
            "grid_area": null,
            "grid_template_columns": null,
            "flex": null,
            "_model_name": "LayoutModel",
            "justify_items": null,
            "grid_row": null,
            "max_height": null,
            "align_content": null,
            "visibility": null,
            "align_self": null,
            "height": null,
            "min_height": null,
            "padding": null,
            "grid_auto_rows": null,
            "grid_gap": null,
            "max_width": null,
            "order": null,
            "_view_module_version": "1.2.0",
            "grid_template_areas": null,
            "object_position": null,
            "object_fit": null,
            "grid_auto_columns": null,
            "margin": null,
            "display": null,
            "left": null
          }
        },
        "7955abcbbb664c0aa9b490b1a73a8a22": {
          "model_module": "@jupyter-widgets/controls",
          "model_name": "DescriptionStyleModel",
          "state": {
            "_view_name": "StyleView",
            "_model_name": "DescriptionStyleModel",
            "description_width": "",
            "_view_module": "@jupyter-widgets/base",
            "_model_module_version": "1.5.0",
            "_view_count": null,
            "_view_module_version": "1.2.0",
            "_model_module": "@jupyter-widgets/controls"
          }
        },
        "9e88babc09b141dcb0e699707c12153f": {
          "model_module": "@jupyter-widgets/base",
          "model_name": "LayoutModel",
          "state": {
            "_view_name": "LayoutView",
            "grid_template_rows": null,
            "right": null,
            "justify_content": null,
            "_view_module": "@jupyter-widgets/base",
            "overflow": null,
            "_model_module_version": "1.2.0",
            "_view_count": null,
            "flex_flow": null,
            "width": null,
            "min_width": null,
            "border": null,
            "align_items": null,
            "bottom": null,
            "_model_module": "@jupyter-widgets/base",
            "top": null,
            "grid_column": null,
            "overflow_y": null,
            "overflow_x": null,
            "grid_auto_flow": null,
            "grid_area": null,
            "grid_template_columns": null,
            "flex": null,
            "_model_name": "LayoutModel",
            "justify_items": null,
            "grid_row": null,
            "max_height": null,
            "align_content": null,
            "visibility": null,
            "align_self": null,
            "height": null,
            "min_height": null,
            "padding": null,
            "grid_auto_rows": null,
            "grid_gap": null,
            "max_width": null,
            "order": null,
            "_view_module_version": "1.2.0",
            "grid_template_areas": null,
            "object_position": null,
            "object_fit": null,
            "grid_auto_columns": null,
            "margin": null,
            "display": null,
            "left": null
          }
        },
        "048410417c0f4edb9f1b6132a9b39629": {
          "model_module": "@jupyter-widgets/controls",
          "model_name": "HBoxModel",
          "state": {
            "_view_name": "HBoxView",
            "_dom_classes": [],
            "_model_name": "HBoxModel",
            "_view_module": "@jupyter-widgets/controls",
            "_model_module_version": "1.5.0",
            "_view_count": null,
            "_view_module_version": "1.5.0",
            "box_style": "",
            "layout": "IPY_MODEL_a54b19489e604a0a8e5430447d7081f1",
            "_model_module": "@jupyter-widgets/controls",
            "children": [
              "IPY_MODEL_b1139907804342ab85722382f2a4d439",
              "IPY_MODEL_40e83b3266f44155aaa24d7372351540"
            ]
          }
        },
        "a54b19489e604a0a8e5430447d7081f1": {
          "model_module": "@jupyter-widgets/base",
          "model_name": "LayoutModel",
          "state": {
            "_view_name": "LayoutView",
            "grid_template_rows": null,
            "right": null,
            "justify_content": null,
            "_view_module": "@jupyter-widgets/base",
            "overflow": null,
            "_model_module_version": "1.2.0",
            "_view_count": null,
            "flex_flow": null,
            "width": null,
            "min_width": null,
            "border": null,
            "align_items": null,
            "bottom": null,
            "_model_module": "@jupyter-widgets/base",
            "top": null,
            "grid_column": null,
            "overflow_y": null,
            "overflow_x": null,
            "grid_auto_flow": null,
            "grid_area": null,
            "grid_template_columns": null,
            "flex": null,
            "_model_name": "LayoutModel",
            "justify_items": null,
            "grid_row": null,
            "max_height": null,
            "align_content": null,
            "visibility": null,
            "align_self": null,
            "height": null,
            "min_height": null,
            "padding": null,
            "grid_auto_rows": null,
            "grid_gap": null,
            "max_width": null,
            "order": null,
            "_view_module_version": "1.2.0",
            "grid_template_areas": null,
            "object_position": null,
            "object_fit": null,
            "grid_auto_columns": null,
            "margin": null,
            "display": null,
            "left": null
          }
        },
        "b1139907804342ab85722382f2a4d439": {
          "model_module": "@jupyter-widgets/controls",
          "model_name": "FloatProgressModel",
          "state": {
            "_view_name": "ProgressView",
            "style": "IPY_MODEL_26bdb6a8fa3c45fca9fdff1f30f342b3",
            "_dom_classes": [],
            "description": "Downloading: 100%",
            "_model_name": "FloatProgressModel",
            "bar_style": "success",
            "max": 231508,
            "_view_module": "@jupyter-widgets/controls",
            "_model_module_version": "1.5.0",
            "value": 231508,
            "_view_count": null,
            "_view_module_version": "1.5.0",
            "orientation": "horizontal",
            "min": 0,
            "description_tooltip": null,
            "_model_module": "@jupyter-widgets/controls",
            "layout": "IPY_MODEL_b1e7cf1ad6534d24a2649b0ceb9b0cb1"
          }
        },
        "40e83b3266f44155aaa24d7372351540": {
          "model_module": "@jupyter-widgets/controls",
          "model_name": "HTMLModel",
          "state": {
            "_view_name": "HTMLView",
            "style": "IPY_MODEL_11d5b575b93446d789d34974cedc6181",
            "_dom_classes": [],
            "description": "",
            "_model_name": "HTMLModel",
            "placeholder": "​",
            "_view_module": "@jupyter-widgets/controls",
            "_model_module_version": "1.5.0",
            "value": " 232k/232k [00:01&lt;00:00, 125kB/s]",
            "_view_count": null,
            "_view_module_version": "1.5.0",
            "description_tooltip": null,
            "_model_module": "@jupyter-widgets/controls",
            "layout": "IPY_MODEL_c0aa7708a37543de8f31abefb6e9c1f3"
          }
        },
        "26bdb6a8fa3c45fca9fdff1f30f342b3": {
          "model_module": "@jupyter-widgets/controls",
          "model_name": "ProgressStyleModel",
          "state": {
            "_view_name": "StyleView",
            "_model_name": "ProgressStyleModel",
            "description_width": "initial",
            "_view_module": "@jupyter-widgets/base",
            "_model_module_version": "1.5.0",
            "_view_count": null,
            "_view_module_version": "1.2.0",
            "bar_color": null,
            "_model_module": "@jupyter-widgets/controls"
          }
        },
        "b1e7cf1ad6534d24a2649b0ceb9b0cb1": {
          "model_module": "@jupyter-widgets/base",
          "model_name": "LayoutModel",
          "state": {
            "_view_name": "LayoutView",
            "grid_template_rows": null,
            "right": null,
            "justify_content": null,
            "_view_module": "@jupyter-widgets/base",
            "overflow": null,
            "_model_module_version": "1.2.0",
            "_view_count": null,
            "flex_flow": null,
            "width": null,
            "min_width": null,
            "border": null,
            "align_items": null,
            "bottom": null,
            "_model_module": "@jupyter-widgets/base",
            "top": null,
            "grid_column": null,
            "overflow_y": null,
            "overflow_x": null,
            "grid_auto_flow": null,
            "grid_area": null,
            "grid_template_columns": null,
            "flex": null,
            "_model_name": "LayoutModel",
            "justify_items": null,
            "grid_row": null,
            "max_height": null,
            "align_content": null,
            "visibility": null,
            "align_self": null,
            "height": null,
            "min_height": null,
            "padding": null,
            "grid_auto_rows": null,
            "grid_gap": null,
            "max_width": null,
            "order": null,
            "_view_module_version": "1.2.0",
            "grid_template_areas": null,
            "object_position": null,
            "object_fit": null,
            "grid_auto_columns": null,
            "margin": null,
            "display": null,
            "left": null
          }
        },
        "11d5b575b93446d789d34974cedc6181": {
          "model_module": "@jupyter-widgets/controls",
          "model_name": "DescriptionStyleModel",
          "state": {
            "_view_name": "StyleView",
            "_model_name": "DescriptionStyleModel",
            "description_width": "",
            "_view_module": "@jupyter-widgets/base",
            "_model_module_version": "1.5.0",
            "_view_count": null,
            "_view_module_version": "1.2.0",
            "_model_module": "@jupyter-widgets/controls"
          }
        },
        "c0aa7708a37543de8f31abefb6e9c1f3": {
          "model_module": "@jupyter-widgets/base",
          "model_name": "LayoutModel",
          "state": {
            "_view_name": "LayoutView",
            "grid_template_rows": null,
            "right": null,
            "justify_content": null,
            "_view_module": "@jupyter-widgets/base",
            "overflow": null,
            "_model_module_version": "1.2.0",
            "_view_count": null,
            "flex_flow": null,
            "width": null,
            "min_width": null,
            "border": null,
            "align_items": null,
            "bottom": null,
            "_model_module": "@jupyter-widgets/base",
            "top": null,
            "grid_column": null,
            "overflow_y": null,
            "overflow_x": null,
            "grid_auto_flow": null,
            "grid_area": null,
            "grid_template_columns": null,
            "flex": null,
            "_model_name": "LayoutModel",
            "justify_items": null,
            "grid_row": null,
            "max_height": null,
            "align_content": null,
            "visibility": null,
            "align_self": null,
            "height": null,
            "min_height": null,
            "padding": null,
            "grid_auto_rows": null,
            "grid_gap": null,
            "max_width": null,
            "order": null,
            "_view_module_version": "1.2.0",
            "grid_template_areas": null,
            "object_position": null,
            "object_fit": null,
            "grid_auto_columns": null,
            "margin": null,
            "display": null,
            "left": null
          }
        },
        "11c12bead905442e8332d1f8d336e1aa": {
          "model_module": "@jupyter-widgets/controls",
          "model_name": "HBoxModel",
          "state": {
            "_view_name": "HBoxView",
            "_dom_classes": [],
            "_model_name": "HBoxModel",
            "_view_module": "@jupyter-widgets/controls",
            "_model_module_version": "1.5.0",
            "_view_count": null,
            "_view_module_version": "1.5.0",
            "box_style": "",
            "layout": "IPY_MODEL_7ceb62e493414164be626914be0206b8",
            "_model_module": "@jupyter-widgets/controls",
            "children": [
              "IPY_MODEL_30acd4864c43409d9ee92fd5b137822d",
              "IPY_MODEL_45ed736758ab497c93800cee7e50233f"
            ]
          }
        },
        "7ceb62e493414164be626914be0206b8": {
          "model_module": "@jupyter-widgets/base",
          "model_name": "LayoutModel",
          "state": {
            "_view_name": "LayoutView",
            "grid_template_rows": null,
            "right": null,
            "justify_content": null,
            "_view_module": "@jupyter-widgets/base",
            "overflow": null,
            "_model_module_version": "1.2.0",
            "_view_count": null,
            "flex_flow": null,
            "width": null,
            "min_width": null,
            "border": null,
            "align_items": null,
            "bottom": null,
            "_model_module": "@jupyter-widgets/base",
            "top": null,
            "grid_column": null,
            "overflow_y": null,
            "overflow_x": null,
            "grid_auto_flow": null,
            "grid_area": null,
            "grid_template_columns": null,
            "flex": null,
            "_model_name": "LayoutModel",
            "justify_items": null,
            "grid_row": null,
            "max_height": null,
            "align_content": null,
            "visibility": null,
            "align_self": null,
            "height": null,
            "min_height": null,
            "padding": null,
            "grid_auto_rows": null,
            "grid_gap": null,
            "max_width": null,
            "order": null,
            "_view_module_version": "1.2.0",
            "grid_template_areas": null,
            "object_position": null,
            "object_fit": null,
            "grid_auto_columns": null,
            "margin": null,
            "display": null,
            "left": null
          }
        },
        "30acd4864c43409d9ee92fd5b137822d": {
          "model_module": "@jupyter-widgets/controls",
          "model_name": "FloatProgressModel",
          "state": {
            "_view_name": "ProgressView",
            "style": "IPY_MODEL_50ad9a4968394b239a6678ca17bc20b3",
            "_dom_classes": [],
            "description": "Downloading: 100%",
            "_model_name": "FloatProgressModel",
            "bar_style": "success",
            "max": 466062,
            "_view_module": "@jupyter-widgets/controls",
            "_model_module_version": "1.5.0",
            "value": 466062,
            "_view_count": null,
            "_view_module_version": "1.5.0",
            "orientation": "horizontal",
            "min": 0,
            "description_tooltip": null,
            "_model_module": "@jupyter-widgets/controls",
            "layout": "IPY_MODEL_50c6cc782dca40f6971d426a46f3f471"
          }
        },
        "45ed736758ab497c93800cee7e50233f": {
          "model_module": "@jupyter-widgets/controls",
          "model_name": "HTMLModel",
          "state": {
            "_view_name": "HTMLView",
            "style": "IPY_MODEL_27fc69049bb94708ba5331254a18449c",
            "_dom_classes": [],
            "description": "",
            "_model_name": "HTMLModel",
            "placeholder": "​",
            "_view_module": "@jupyter-widgets/controls",
            "_model_module_version": "1.5.0",
            "value": " 466k/466k [00:27&lt;00:00, 17.1kB/s]",
            "_view_count": null,
            "_view_module_version": "1.5.0",
            "description_tooltip": null,
            "_model_module": "@jupyter-widgets/controls",
            "layout": "IPY_MODEL_d00ee01a5d81457b8f992f00d3d8a7b7"
          }
        },
        "50ad9a4968394b239a6678ca17bc20b3": {
          "model_module": "@jupyter-widgets/controls",
          "model_name": "ProgressStyleModel",
          "state": {
            "_view_name": "StyleView",
            "_model_name": "ProgressStyleModel",
            "description_width": "initial",
            "_view_module": "@jupyter-widgets/base",
            "_model_module_version": "1.5.0",
            "_view_count": null,
            "_view_module_version": "1.2.0",
            "bar_color": null,
            "_model_module": "@jupyter-widgets/controls"
          }
        },
        "50c6cc782dca40f6971d426a46f3f471": {
          "model_module": "@jupyter-widgets/base",
          "model_name": "LayoutModel",
          "state": {
            "_view_name": "LayoutView",
            "grid_template_rows": null,
            "right": null,
            "justify_content": null,
            "_view_module": "@jupyter-widgets/base",
            "overflow": null,
            "_model_module_version": "1.2.0",
            "_view_count": null,
            "flex_flow": null,
            "width": null,
            "min_width": null,
            "border": null,
            "align_items": null,
            "bottom": null,
            "_model_module": "@jupyter-widgets/base",
            "top": null,
            "grid_column": null,
            "overflow_y": null,
            "overflow_x": null,
            "grid_auto_flow": null,
            "grid_area": null,
            "grid_template_columns": null,
            "flex": null,
            "_model_name": "LayoutModel",
            "justify_items": null,
            "grid_row": null,
            "max_height": null,
            "align_content": null,
            "visibility": null,
            "align_self": null,
            "height": null,
            "min_height": null,
            "padding": null,
            "grid_auto_rows": null,
            "grid_gap": null,
            "max_width": null,
            "order": null,
            "_view_module_version": "1.2.0",
            "grid_template_areas": null,
            "object_position": null,
            "object_fit": null,
            "grid_auto_columns": null,
            "margin": null,
            "display": null,
            "left": null
          }
        },
        "27fc69049bb94708ba5331254a18449c": {
          "model_module": "@jupyter-widgets/controls",
          "model_name": "DescriptionStyleModel",
          "state": {
            "_view_name": "StyleView",
            "_model_name": "DescriptionStyleModel",
            "description_width": "",
            "_view_module": "@jupyter-widgets/base",
            "_model_module_version": "1.5.0",
            "_view_count": null,
            "_view_module_version": "1.2.0",
            "_model_module": "@jupyter-widgets/controls"
          }
        },
        "d00ee01a5d81457b8f992f00d3d8a7b7": {
          "model_module": "@jupyter-widgets/base",
          "model_name": "LayoutModel",
          "state": {
            "_view_name": "LayoutView",
            "grid_template_rows": null,
            "right": null,
            "justify_content": null,
            "_view_module": "@jupyter-widgets/base",
            "overflow": null,
            "_model_module_version": "1.2.0",
            "_view_count": null,
            "flex_flow": null,
            "width": null,
            "min_width": null,
            "border": null,
            "align_items": null,
            "bottom": null,
            "_model_module": "@jupyter-widgets/base",
            "top": null,
            "grid_column": null,
            "overflow_y": null,
            "overflow_x": null,
            "grid_auto_flow": null,
            "grid_area": null,
            "grid_template_columns": null,
            "flex": null,
            "_model_name": "LayoutModel",
            "justify_items": null,
            "grid_row": null,
            "max_height": null,
            "align_content": null,
            "visibility": null,
            "align_self": null,
            "height": null,
            "min_height": null,
            "padding": null,
            "grid_auto_rows": null,
            "grid_gap": null,
            "max_width": null,
            "order": null,
            "_view_module_version": "1.2.0",
            "grid_template_areas": null,
            "object_position": null,
            "object_fit": null,
            "grid_auto_columns": null,
            "margin": null,
            "display": null,
            "left": null
          }
        },
        "1abd055406ff41cd90096cf285cc91ce": {
          "model_module": "@jupyter-widgets/controls",
          "model_name": "HBoxModel",
          "state": {
            "_view_name": "HBoxView",
            "_dom_classes": [],
            "_model_name": "HBoxModel",
            "_view_module": "@jupyter-widgets/controls",
            "_model_module_version": "1.5.0",
            "_view_count": null,
            "_view_module_version": "1.5.0",
            "box_style": "",
            "layout": "IPY_MODEL_fe2cb77014cc4818b6354642b1b5d1d7",
            "_model_module": "@jupyter-widgets/controls",
            "children": [
              "IPY_MODEL_eca562e3dde94f629665caf64c47c07d",
              "IPY_MODEL_196c23fe3c3d4471a99a9957de2c26aa"
            ]
          }
        },
        "fe2cb77014cc4818b6354642b1b5d1d7": {
          "model_module": "@jupyter-widgets/base",
          "model_name": "LayoutModel",
          "state": {
            "_view_name": "LayoutView",
            "grid_template_rows": null,
            "right": null,
            "justify_content": null,
            "_view_module": "@jupyter-widgets/base",
            "overflow": null,
            "_model_module_version": "1.2.0",
            "_view_count": null,
            "flex_flow": null,
            "width": null,
            "min_width": null,
            "border": null,
            "align_items": null,
            "bottom": null,
            "_model_module": "@jupyter-widgets/base",
            "top": null,
            "grid_column": null,
            "overflow_y": null,
            "overflow_x": null,
            "grid_auto_flow": null,
            "grid_area": null,
            "grid_template_columns": null,
            "flex": null,
            "_model_name": "LayoutModel",
            "justify_items": null,
            "grid_row": null,
            "max_height": null,
            "align_content": null,
            "visibility": null,
            "align_self": null,
            "height": null,
            "min_height": null,
            "padding": null,
            "grid_auto_rows": null,
            "grid_gap": null,
            "max_width": null,
            "order": null,
            "_view_module_version": "1.2.0",
            "grid_template_areas": null,
            "object_position": null,
            "object_fit": null,
            "grid_auto_columns": null,
            "margin": null,
            "display": null,
            "left": null
          }
        },
        "eca562e3dde94f629665caf64c47c07d": {
          "model_module": "@jupyter-widgets/controls",
          "model_name": "FloatProgressModel",
          "state": {
            "_view_name": "ProgressView",
            "style": "IPY_MODEL_22b009606e6743598c46377542d478ba",
            "_dom_classes": [],
            "description": "Downloading: 100%",
            "_model_name": "FloatProgressModel",
            "bar_style": "success",
            "max": 363423424,
            "_view_module": "@jupyter-widgets/controls",
            "_model_module_version": "1.5.0",
            "value": 363423424,
            "_view_count": null,
            "_view_module_version": "1.5.0",
            "orientation": "horizontal",
            "min": 0,
            "description_tooltip": null,
            "_model_module": "@jupyter-widgets/controls",
            "layout": "IPY_MODEL_08c8cee6b3e240898cd2acd60f981688"
          }
        },
        "196c23fe3c3d4471a99a9957de2c26aa": {
          "model_module": "@jupyter-widgets/controls",
          "model_name": "HTMLModel",
          "state": {
            "_view_name": "HTMLView",
            "style": "IPY_MODEL_84cac8cbd4e447f8b57cdb6a96ab4e75",
            "_dom_classes": [],
            "description": "",
            "_model_name": "HTMLModel",
            "placeholder": "​",
            "_view_module": "@jupyter-widgets/controls",
            "_model_module_version": "1.5.0",
            "value": " 363M/363M [00:04&lt;00:00, 73.2MB/s]",
            "_view_count": null,
            "_view_module_version": "1.5.0",
            "description_tooltip": null,
            "_model_module": "@jupyter-widgets/controls",
            "layout": "IPY_MODEL_b11942c9e6734ed2af140983d4169aab"
          }
        },
        "22b009606e6743598c46377542d478ba": {
          "model_module": "@jupyter-widgets/controls",
          "model_name": "ProgressStyleModel",
          "state": {
            "_view_name": "StyleView",
            "_model_name": "ProgressStyleModel",
            "description_width": "initial",
            "_view_module": "@jupyter-widgets/base",
            "_model_module_version": "1.5.0",
            "_view_count": null,
            "_view_module_version": "1.2.0",
            "bar_color": null,
            "_model_module": "@jupyter-widgets/controls"
          }
        },
        "08c8cee6b3e240898cd2acd60f981688": {
          "model_module": "@jupyter-widgets/base",
          "model_name": "LayoutModel",
          "state": {
            "_view_name": "LayoutView",
            "grid_template_rows": null,
            "right": null,
            "justify_content": null,
            "_view_module": "@jupyter-widgets/base",
            "overflow": null,
            "_model_module_version": "1.2.0",
            "_view_count": null,
            "flex_flow": null,
            "width": null,
            "min_width": null,
            "border": null,
            "align_items": null,
            "bottom": null,
            "_model_module": "@jupyter-widgets/base",
            "top": null,
            "grid_column": null,
            "overflow_y": null,
            "overflow_x": null,
            "grid_auto_flow": null,
            "grid_area": null,
            "grid_template_columns": null,
            "flex": null,
            "_model_name": "LayoutModel",
            "justify_items": null,
            "grid_row": null,
            "max_height": null,
            "align_content": null,
            "visibility": null,
            "align_self": null,
            "height": null,
            "min_height": null,
            "padding": null,
            "grid_auto_rows": null,
            "grid_gap": null,
            "max_width": null,
            "order": null,
            "_view_module_version": "1.2.0",
            "grid_template_areas": null,
            "object_position": null,
            "object_fit": null,
            "grid_auto_columns": null,
            "margin": null,
            "display": null,
            "left": null
          }
        },
        "84cac8cbd4e447f8b57cdb6a96ab4e75": {
          "model_module": "@jupyter-widgets/controls",
          "model_name": "DescriptionStyleModel",
          "state": {
            "_view_name": "StyleView",
            "_model_name": "DescriptionStyleModel",
            "description_width": "",
            "_view_module": "@jupyter-widgets/base",
            "_model_module_version": "1.5.0",
            "_view_count": null,
            "_view_module_version": "1.2.0",
            "_model_module": "@jupyter-widgets/controls"
          }
        },
        "b11942c9e6734ed2af140983d4169aab": {
          "model_module": "@jupyter-widgets/base",
          "model_name": "LayoutModel",
          "state": {
            "_view_name": "LayoutView",
            "grid_template_rows": null,
            "right": null,
            "justify_content": null,
            "_view_module": "@jupyter-widgets/base",
            "overflow": null,
            "_model_module_version": "1.2.0",
            "_view_count": null,
            "flex_flow": null,
            "width": null,
            "min_width": null,
            "border": null,
            "align_items": null,
            "bottom": null,
            "_model_module": "@jupyter-widgets/base",
            "top": null,
            "grid_column": null,
            "overflow_y": null,
            "overflow_x": null,
            "grid_auto_flow": null,
            "grid_area": null,
            "grid_template_columns": null,
            "flex": null,
            "_model_name": "LayoutModel",
            "justify_items": null,
            "grid_row": null,
            "max_height": null,
            "align_content": null,
            "visibility": null,
            "align_self": null,
            "height": null,
            "min_height": null,
            "padding": null,
            "grid_auto_rows": null,
            "grid_gap": null,
            "max_width": null,
            "order": null,
            "_view_module_version": "1.2.0",
            "grid_template_areas": null,
            "object_position": null,
            "object_fit": null,
            "grid_auto_columns": null,
            "margin": null,
            "display": null,
            "left": null
          }
        }
      }
    }
  },
  "cells": [
    {
      "cell_type": "markdown",
      "metadata": {
        "id": "B8P8yUIFDOIf"
      },
      "source": [
        "## Multi-label classification with BERT\n",
        "\n",
        "Transformers and their offsprings (BERT, GPT-3, T5, ...) have [revolutionized NLP](https://blog.seekwell.io/gpt3) and, in my opinion, seem to take us closer to [Artificial General Intelligence](https://en.wikipedia.org/wiki/Artificial_general_intelligence). Thanks to [Hugging Face 🤗](https://huggingface.co/), fine-tuning transformers on your data set now boils down to a couple of lines of Python code. \n",
        "\n",
        "<figure>\n",
        "<center>\n",
        "<img src='https://i0.wp.com/syncedreview.com/wp-content/uploads/2020/03/BERT-LANG-STREET.png?fit=3264%2C2448&ssl=1' height=\"200\"/>\n",
        "<figcaption>BERT's family</figcaption></center>\n",
        "</figure>\n",
        "\n",
        "Some use cases still require a bit of tinkering, like the multi-label classification  problem I had to tackle recently. In this article I'm sharing my TensorFlow implementation which is portable to any other transformer you may prefer. If you are more of a PyTorch afficionado, feel free to have a look at [this blog post instead](https://towardsdatascience.com/transformers-for-multilabel-classification-71a1a0daf5e1).\n",
        "\n",
        "Today's post is not theoretical. If you want to dive into the inner workings of transformers there's a lot of good presentations on Transformers out there, notably [Transformer illustrated](http://jalammar.github.io/illustrated-transformer/), [Transformers from scratch](http://peterbloem.nl/blog/transformers), and [the annotated Transformer](https://nlp.seas.harvard.edu/2018/04/03/attention.html). \n",
        "\n",
        "In my experience exploring the Transformers litterature, the Transformer itself is the most complex component and the one that took me the most time to understand. With a solid understanding of the Transformer subsequent models built on top of it are fairly easy to grasp (like [BERT](https://arxiv.org/abs/1810.04805), the [GPT](https://arxiv.org/abs/2005.14165) family, and [maaaaaannnny others](https://huggingface.co/models)).\n",
        "\n",
        "In this blog post I fine-tune [DistillBERT](https://arxiv.org/abs/1910.01108) (a smaller version of BERT with very close performances) on the [Toxic Comment Classification Challenge](https://www.kaggle.com/c/jigsaw-toxic-comment-classification-challenge/data). This challenge consists in tagging Wikipedia comments according to several \"toxic behavior\" labels. The task is a multi-label classification problem because a single comment can have zero, one, or up to six tags.\n",
        "\n",
        "As you'll see below, I simply fine-tuned the model on a GPU (thanks to [Colab](https://colab.research.google.com/notebooks/intro.ipynb#recent=true)) and achieved very good performances in less than an hour."
      ]
    },
    {
      "cell_type": "markdown",
      "metadata": {
        "id": "9dNTl8lrKqzL"
      },
      "source": [
        "## Import and prepare the dataset"
      ]
    },
    {
      "cell_type": "code",
      "metadata": {
        "colab": {
          "base_uri": "https://localhost:8080/"
        },
        "id": "s9gdQ-iucHIL",
        "outputId": "69d088da-2477-47d5-9071-16909604b649"
      },
      "source": [
        "%%capture  # Ignore the cell output\n",
        "!pip uninstall -y -q kaggle && pip install -q kaggle \n",
        "# Needed to get the latest version of the Kaggle CLI\n",
        "\n",
        "from getpass import getpass\n",
        "import os\n",
        "\n",
        "# We'll use the Kaggle-CLI to download the dataset\n",
        "# To create an authentication token on Kaggle check https://www.kaggle.com/docs/api\n",
        "# You'll also have to accept the competition rules here: \n",
        "# https://www.kaggle.com/c/jigsaw-toxic-comment-classification-challenge/rules\n",
        "\n",
        "os.environ[\"KAGGLE_USERNAME\"] = getpass(prompt='Kaggle username: ')\n",
        "os.environ[\"KAGGLE_KEY\"] = getpass(prompt='Token: ')\n",
        "\n",
        "!kaggle --version\n",
        "!kaggle competitions download -c jigsaw-toxic-comment-classification-challenge\n",
        "!unzip jigsaw-toxic-comment-classification-challenge.zip && unzip train.csv.zip"
      ],
      "execution_count": 1,
      "outputs": [
        {
          "output_type": "stream",
          "text": [
            "Kaggle username: ··········\n",
            "Token: ··········\n"
          ],
          "name": "stdout"
        }
      ]
    },
    {
      "cell_type": "markdown",
      "metadata": {
        "id": "Qyn8yWq8D_PI"
      },
      "source": [
        "The above cell is just meant to download and unpack the data, now let's load and prepare the dataset."
      ]
    },
    {
      "cell_type": "code",
      "metadata": {
        "colab": {
          "base_uri": "https://localhost:8080/"
        },
        "id": "keMJm46HgZdg",
        "outputId": "9181f64a-7f0d-4616-e972-2f67156a5813"
      },
      "source": [
        "import pandas as pd\n",
        "from sklearn.model_selection import train_test_split\n",
        "\n",
        "dataset = pd.read_csv(\"train.csv\")\n",
        "texts = list(dataset[\"comment_text\"])\n",
        "label_names = dataset.drop([\"id\", \"comment_text\"], axis=1).columns\n",
        "labels = dataset[label_names].values\n",
        "\n",
        "train_texts, test_texts, train_labels, test_labels = train_test_split(\n",
        "    texts, labels, test_size=0.2, random_state=42\n",
        ")\n",
        "\n",
        "sample_idx = 23\n",
        "print(f'Sample: \"{train_texts[sample_idx]}\"')\n",
        "print(f\"Labels: {pd.Series(train_labels[sample_idx], label_names).to_dict()}\")"
      ],
      "execution_count": 2,
      "outputs": [
        {
          "output_type": "stream",
          "text": [
            "Sample: \"what the fuck who deleted the spider loc and hot rod sections fucking wikipedia stupid ass ignorant people can we get it back ?\"\n",
            "Labels: {'toxic': 1, 'severe_toxic': 0, 'obscene': 1, 'threat': 0, 'insult': 1, 'identity_hate': 0}\n"
          ],
          "name": "stdout"
        }
      ]
    },
    {
      "cell_type": "markdown",
      "metadata": {
        "id": "MoLGEfJxK-8H"
      },
      "source": [
        "## A minimalistic Exploratory Data Analysis\n",
        "\n",
        "Here we'll just have a look at the texts length distribution. That will help us choose a reasonable cut-off for number of words, in order to speed up training (the maximum is 512 for BERT)."
      ]
    },
    {
      "cell_type": "code",
      "metadata": {
        "colab": {
          "base_uri": "https://localhost:8080/",
          "height": 281
        },
        "id": "PMAho8JfA1iX",
        "outputId": "f05c4949-207c-463e-e23f-ce25d7c5975f"
      },
      "source": [
        "import seaborn as sns\n",
        "\n",
        "text_lengths = [len(t.split()) for t in train_texts]\n",
        "ax = sns.histplot(data=text_lengths, kde=True, stat=\"density\")\n",
        "ax.set_title(\"Texts length distribution (number of words)\");"
      ],
      "execution_count": null,
      "outputs": [
        {
          "output_type": "display_data",
          "data": {
            "image/png": "[encoded data removed]",
            "text/plain": [
              "<Figure size 432x288 with 1 Axes>"
            ]
          },
          "metadata": {
            "tags": [],
            "needs_background": "light"
          }
        }
      ]
    },
    {
      "cell_type": "markdown",
      "metadata": {
        "id": "D9vnrKCuLirr"
      },
      "source": [
        "Let's choose a cutoff of 200 words, since most \n",
        "texts are shorter than this.\n",
        "\n",
        "You'll see below that the labels are pretty imbalanced, it gives us an idea of the order of magnitude of what a decent accuracy could be."
      ]
    },
    {
      "cell_type": "code",
      "metadata": {
        "colab": {
          "base_uri": "https://localhost:8080/",
          "height": 385
        },
        "id": "d5PEmTNv_fXK",
        "outputId": "0acd4144-01e2-4a46-ce0a-e597d346f3dc"
      },
      "source": [
        "import matplotlib.pyplot as plt\n",
        "import matplotlib.ticker as mtick\n",
        "\n",
        "fig, (ax1, ax2) = plt.subplots(1, 2, figsize=(10, 5), constrained_layout=True)\n",
        "\n",
        "# Labels distribution barplot\n",
        "labels_ratio = dataset[label_names].mean()\n",
        "labels_ratio.plot(kind=\"bar\", ax=ax1)\n",
        "ax1.yaxis.set_major_formatter(mtick.PercentFormatter(1.0, decimals=False))\n",
        "for p in ax1.patches:\n",
        "    ax1.set_ylim(0, 1.1 * labels_ratio.max())\n",
        "    ax1.annotate(f\"{p.get_height():.2%}\", (p.get_x() + 0.005, p.get_height() + 0.002))\n",
        "ax1.set_title(\"Labels ratio\");\n",
        "\n",
        "# Labels correlation heatmap\n",
        "ax2 = sns.heatmap(dataset[label_names].corr())\n",
        "ax2.set_title(\"Labels correlation\")\n",
        "fig.show()"
      ],
      "execution_count": null,
      "outputs": [
        {
          "output_type": "display_data",
          "data": {
            "image/png": "[encoded data removed]",
            "text/plain": [
              "<Figure size 720x360 with 3 Axes>"
            ]
          },
          "metadata": {
            "tags": [],
            "needs_background": "light"
          }
        }
      ]
    },
    {
      "cell_type": "markdown",
      "metadata": {
        "id": "64FeWXoPMaT3"
      },
      "source": [
        "Note that labels are largely correlated. It should make traning easier since the patterns learned by the transformer will generalize accross labels.\n",
        "\n",
        "For benchmark purpose it is always useful to know the performance of a dummy classifier that always predicts the label ratio as the label probability. Note that for multi-label classification we make a distinction between the accuracy (all predicted labels are correct) and the binary accuracy (how many *individual labels* are correct). The latter is always larger than the former because it is harder to predict **all** labels correctly."
      ]
    },
    {
      "cell_type": "code",
      "metadata": {
        "id": "rFTcnRuAMXxq",
        "colab": {
          "base_uri": "https://localhost:8080/"
        },
        "outputId": "6d80780d-cbc2-4f8a-8872-8d5642bb0063"
      },
      "source": [
        "import numpy as np  \n",
        "from sklearn.dummy import DummyClassifier\n",
        "from sklearn.metrics import log_loss\n",
        "\n",
        "pd.set_option(\"display.precision\", 3)\n",
        "\n",
        "dummy = DummyClassifier(strategy=\"prior\")\n",
        "dummy.fit(train_texts, train_labels)\n",
        "y_pred = dummy.predict(test_texts)\n",
        "y_prob = dummy.predict_proba(test_texts)\n",
        "y_prob = np.array(y_prob)[:, :, 1].T\n",
        "\n",
        "def compute_metrics(y_true, y_prob):\n",
        "    y_pred = y_prob.round()\n",
        "    metrics = dict()\n",
        "    metrics[\"accuracy\"] = np.all(y_pred == y_true, axis=1).mean()\n",
        "    metrics[\"binary_accuracy\"] = (y_pred == y_true).mean()\n",
        "    metrics[\"loss\"] = log_loss(y_true, y_prob)\n",
        "    return pd.Series(metrics)\n",
        "\n",
        "metrics = compute_metrics(test_labels, y_prob)\n",
        "metrics.name = \"Dummy classifier\"\n",
        "print(metrics.to_markdown())"
      ],
      "execution_count": 15,
      "outputs": [
        {
          "output_type": "stream",
          "text": [
            "|                 |   Dummy classifier |\n",
            "|:----------------|-------------------:|\n",
            "| accuracy        |           0.898355 |\n",
            "| binary_accuracy |           0.963058 |\n",
            "| loss            |           0.302386 |\n"
          ],
          "name": "stdout"
        }
      ]
    },
    {
      "cell_type": "markdown",
      "metadata": {
        "id": "X-OLOnOXYT8k"
      },
      "source": [
        "## Setting a baseline"
      ]
    },
    {
      "cell_type": "code",
      "metadata": {
        "colab": {
          "base_uri": "https://localhost:8080/"
        },
        "id": "ONMHdF9mvmtr",
        "outputId": "b7cea280-8d78-4029-ddd1-7ef8adaac373"
      },
      "source": [
        "from sklearn.feature_extraction.text import TfidfVectorizer\n",
        "from sklearn.linear_model import LogisticRegression\n",
        "from sklearn.multiclass import OneVsRestClassifier\n",
        "from sklearn.pipeline import make_pipeline\n",
        "\n",
        "# We take into account unigrams and bigrams that occur at least 10 times \n",
        "# in the train set, but less than 50 % of the time\n",
        "tfidf = TfidfVectorizer(min_df=10, max_df=0.5, ngram_range=(1, 2))\n",
        "\n",
        "# We set the (L2) regularization weight to 1/2 (inverse of C)\n",
        "classifier = OneVsRestClassifier(LogisticRegression(C=2., max_iter=1000))\n",
        "\n",
        "baseline = make_pipeline(tfidf, classifier)\n",
        "baseline.fit(train_texts, train_labels)\n",
        "\n",
        "y_prob = baseline.predict_proba(test_texts)\n",
        "\n",
        "metrics = compute_metrics(test_labels, y_prob)\n",
        "metrics.name = \"TF-IDF + Logistic Regression\"\n",
        "print(metrics.to_markdown())"
      ],
      "execution_count": 24,
      "outputs": [
        {
          "output_type": "stream",
          "text": [
            "|                 |   TF-IDF + Logistic Regression |\n",
            "|:----------------|-------------------------------:|\n",
            "| accuracy        |                       0.91938  |\n",
            "| binary_accuracy |                       0.980871 |\n",
            "| loss            |                       0.280769 |\n"
          ],
          "name": "stdout"
        }
      ]
    },
    {
      "cell_type": "markdown",
      "metadata": {
        "id": "VeHsTC_jNGTI"
      },
      "source": [
        "So we have a small improvement over the random baseline, let's se how transformers perform on this task. \n",
        "\n",
        "## Fine-tuning DistillBERT\n",
        "\n",
        "The [Transformers package](https://huggingface.co/transformers/) provides pre-trained transformer-based models, plus the corresponding pre-processing and tokenizing functions (the tokenizers even have optimized implementations in Rust!)."
      ]
    },
    {
      "cell_type": "code",
      "metadata": {
        "colab": {
          "base_uri": "https://localhost:8080/"
        },
        "id": "2SZPW0EZZ1UX",
        "outputId": "3dba23d2-929d-4cc6-b52a-6fd639df330e"
      },
      "source": [
        "!pip install -q transformers > /dev/null\n",
        "\n",
        "import transformers\n",
        "print(f\"Transformers package version: {transformers.__version__}\")"
      ],
      "execution_count": 30,
      "outputs": [
        {
          "output_type": "stream",
          "text": [
            "Transformers package version: 4.2.2\n"
          ],
          "name": "stdout"
        }
      ]
    },
    {
      "cell_type": "code",
      "metadata": {
        "colab": {
          "base_uri": "https://localhost:8080/",
          "height": 182,
          "referenced_widgets": [
            "1a68b8b5297c41619d15a716d9bdc048",
            "f33a11d8df0046ae919eb81c5a566fd3",
            "9913133349f84d388d3fe1920d40cc90",
            "ca9f14d9b18148b5bc86276cb2956362",
            "207810de67434987a5cc303d93c5bf29",
            "fc32a96b13704edd868ea8dcc87b71fa",
            "7955abcbbb664c0aa9b490b1a73a8a22",
            "9e88babc09b141dcb0e699707c12153f",
            "048410417c0f4edb9f1b6132a9b39629",
            "a54b19489e604a0a8e5430447d7081f1",
            "b1139907804342ab85722382f2a4d439",
            "40e83b3266f44155aaa24d7372351540",
            "26bdb6a8fa3c45fca9fdff1f30f342b3",
            "b1e7cf1ad6534d24a2649b0ceb9b0cb1",
            "11d5b575b93446d789d34974cedc6181",
            "c0aa7708a37543de8f31abefb6e9c1f3",
            "11c12bead905442e8332d1f8d336e1aa",
            "7ceb62e493414164be626914be0206b8",
            "30acd4864c43409d9ee92fd5b137822d",
            "45ed736758ab497c93800cee7e50233f",
            "50ad9a4968394b239a6678ca17bc20b3",
            "50c6cc782dca40f6971d426a46f3f471",
            "27fc69049bb94708ba5331254a18449c",
            "d00ee01a5d81457b8f992f00d3d8a7b7"
          ]
        },
        "id": "DbHkq_4Ultsk",
        "outputId": "e5392c73-d1a4-4c85-8122-63a9a8258cb4"
      },
      "source": [
        "import tensorflow as tf\n",
        "from transformers import TFDistilBertForSequenceClassification, \\\n",
        "    DistilBertConfig, DistilBertTokenizerFast\n",
        "\n",
        "MODEL_NAME = 'distilbert-base-uncased'\n",
        "MAX_LENGTH = 200  # We truncate anything after the 200-th word to speed up training\n",
        "\n",
        "# The configuration is not needed if you don't have to customize the \n",
        "# network architecture. Here we will need it to replacee the output of the model\n",
        "# with a multi-label prediction layer (i.e. sigmoid activations + binary cross-entropy\n",
        "# instead of softmax + categorical cross-entropy of multi-class classification)\n",
        "config = DistilBertConfig.from_pretrained(MODEL_NAME)\n",
        "\n",
        "tokenizer = DistilBertTokenizerFast.from_pretrained(MODEL_NAME)\n",
        "\n",
        "\n",
        "train_encodings = tokenizer(train_texts, truncation=True, padding=True, \n",
        "                            max_length=MAX_LENGTH, return_tensors=\"tf\")\n",
        "test_encodings = tokenizer(test_texts, truncation=True, padding=True, \n",
        "                           max_length=MAX_LENGTH, return_tensors=\"tf\")\n",
        "\n",
        "# Create TensorFlow datasets to feed the model for training and evaluation\n",
        "train_dataset = tf.data.Dataset.from_tensor_slices((dict(train_encodings), train_labels))\n",
        "test_dataset = tf.data.Dataset.from_tensor_slices((dict(test_encodings), test_labels))\n",
        "\n",
        "# Tokenizer output example\n",
        "sample_text = \"I have changed the headers to small letters, since I was basically...\"\n",
        "tokenizer.decode(tokenizer(sample_text)[\"input_ids\"])"
      ],
      "execution_count": null,
      "outputs": [
        {
          "output_type": "display_data",
          "data": {
            "application/vnd.jupyter.widget-view+json": {
              "model_id": "1a68b8b5297c41619d15a716d9bdc048",
              "version_minor": 0,
              "version_major": 2
            },
            "text/plain": [
              "HBox(children=(FloatProgress(value=0.0, description='Downloading', max=442.0, style=ProgressStyle(description_…"
            ]
          },
          "metadata": {
            "tags": []
          }
        },
        {
          "output_type": "stream",
          "text": [
            "\n"
          ],
          "name": "stdout"
        },
        {
          "output_type": "display_data",
          "data": {
            "application/vnd.jupyter.widget-view+json": {
              "model_id": "048410417c0f4edb9f1b6132a9b39629",
              "version_minor": 0,
              "version_major": 2
            },
            "text/plain": [
              "HBox(children=(FloatProgress(value=0.0, description='Downloading', max=231508.0, style=ProgressStyle(descripti…"
            ]
          },
          "metadata": {
            "tags": []
          }
        },
        {
          "output_type": "stream",
          "text": [
            "\n"
          ],
          "name": "stdout"
        },
        {
          "output_type": "display_data",
          "data": {
            "application/vnd.jupyter.widget-view+json": {
              "model_id": "11c12bead905442e8332d1f8d336e1aa",
              "version_minor": 0,
              "version_major": 2
            },
            "text/plain": [
              "HBox(children=(FloatProgress(value=0.0, description='Downloading', max=466062.0, style=ProgressStyle(descripti…"
            ]
          },
          "metadata": {
            "tags": []
          }
        },
        {
          "output_type": "stream",
          "text": [
            "\n"
          ],
          "name": "stdout"
        },
        {
          "output_type": "execute_result",
          "data": {
            "application/vnd.google.colaboratory.intrinsic+json": {
              "type": "string"
            },
            "text/plain": [
              "'[CLS] i have changed the headers to small letters, since i was basically... [SEP]'"
            ]
          },
          "metadata": {
            "tags": []
          },
          "execution_count": 10
        }
      ]
    },
    {
      "cell_type": "markdown",
      "metadata": {
        "id": "8ddfsOGcOQ3F"
      },
      "source": [
        "The \"[CLS]\" special token is prepended to each text and will be used for classification, and a \"[SEP]\" token is appended. \n",
        "\n",
        "Note that thanks to BERT adding customizable special tokens, you can also take into account custom vocabularies that maybe specific to your dataset (e.g. domain-specific tags, or unusual characters with a specific meaning). To do so,you just have to add the following line `tokenizer.add_special_tokens({\"additional_special_tokens\": [\"[unused1]\"]})` and map your custom symbols to \"[unused1]\" (or \"[unused2]\", ..., up to \"[unused999]\"). We won't need it here.\n",
        "\n",
        "Now that the tokenizer is available, we have to customize the output of the BERT model for our multi-label problem."
      ]
    },
    {
      "cell_type": "code",
      "metadata": {
        "colab": {
          "base_uri": "https://localhost:8080/",
          "height": 480,
          "referenced_widgets": [
            "1abd055406ff41cd90096cf285cc91ce",
            "fe2cb77014cc4818b6354642b1b5d1d7",
            "eca562e3dde94f629665caf64c47c07d",
            "196c23fe3c3d4471a99a9957de2c26aa",
            "22b009606e6743598c46377542d478ba",
            "08c8cee6b3e240898cd2acd60f981688",
            "84cac8cbd4e447f8b57cdb6a96ab4e75",
            "b11942c9e6734ed2af140983d4169aab"
          ]
        },
        "id": "5L-gbjpClyTc",
        "outputId": "f642e19b-48f9-4910-fc67-67d3725e8d57"
      },
      "source": [
        "from tensorflow.keras.initializers import TruncatedNormal\n",
        "from tensorflow.keras.layers import Input, Dropout, Dense\n",
        "from tensorflow.keras.losses import BinaryCrossentropy\n",
        "from tensorflow.keras.models import Model\n",
        "from tensorflow.keras.optimizers import Adam\n",
        "\n",
        "transformer_model = TFDistilBertForSequenceClassification.from_pretrained(\n",
        "    MODEL_NAME, output_hidden_states=False\n",
        ")\n",
        "\n",
        "bert = transformer_model.layers[0]\n",
        "\n",
        "# The input is a dictionary of word identifiers \n",
        "input_ids = Input(shape=(MAX_LENGTH,), name='input_ids', dtype='int32')\n",
        "inputs = {'input_ids': input_ids}\n",
        "\n",
        "# Here we select the representation of the first token ([CLS]) for classification\n",
        "# (a.k.a. \"pooled representation\")\n",
        "bert_model = bert(inputs)[0][:, 0, :] \n",
        "\n",
        "# Add a dropout layer and the output layer\n",
        "dropout = Dropout(config.dropout, name='pooled_output')\n",
        "pooled_output = dropout(bert_model, training=False)\n",
        "output = Dense(\n",
        "    units=train_labels.shape[1],\n",
        "    kernel_initializer=TruncatedNormal(stddev=config.initializer_range), \n",
        "    activation=\"sigmoid\",  # Choose a sigmoid for multi-label classification\n",
        "    name='output'\n",
        ")(pooled_output)\n",
        "\n",
        "model = Model(inputs=inputs, outputs=output, name='BERT_MultiLabel')\n",
        "model.summary()"
      ],
      "execution_count": null,
      "outputs": [
        {
          "output_type": "display_data",
          "data": {
            "application/vnd.jupyter.widget-view+json": {
              "model_id": "1abd055406ff41cd90096cf285cc91ce",
              "version_minor": 0,
              "version_major": 2
            },
            "text/plain": [
              "HBox(children=(FloatProgress(value=0.0, description='Downloading', max=363423424.0, style=ProgressStyle(descri…"
            ]
          },
          "metadata": {
            "tags": []
          }
        },
        {
          "output_type": "stream",
          "text": [
            "\n"
          ],
          "name": "stdout"
        },
        {
          "output_type": "stream",
          "text": [
            "Some layers from the model checkpoint at distilbert-base-uncased were not used when initializing TFDistilBertForSequenceClassification: ['activation_13', 'vocab_transform', 'vocab_projector', 'vocab_layer_norm']\n",
            "- This IS expected if you are initializing TFDistilBertForSequenceClassification from the checkpoint of a model trained on another task or with another architecture (e.g. initializing a BertForSequenceClassification model from a BertForPreTraining model).\n",
            "- This IS NOT expected if you are initializing TFDistilBertForSequenceClassification from the checkpoint of a model that you expect to be exactly identical (initializing a BertForSequenceClassification model from a BertForSequenceClassification model).\n",
            "Some layers of TFDistilBertForSequenceClassification were not initialized from the model checkpoint at distilbert-base-uncased and are newly initialized: ['dropout_19', 'classifier', 'pre_classifier']\n",
            "You should probably TRAIN this model on a down-stream task to be able to use it for predictions and inference.\n"
          ],
          "name": "stderr"
        },
        {
          "output_type": "stream",
          "text": [
            "Model: \"BERT_MultiLabel\"\n",
            "_________________________________________________________________\n",
            "Layer (type)                 Output Shape              Param #   \n",
            "=================================================================\n",
            "input_ids (InputLayer)       [(None, 200)]             0         \n",
            "_________________________________________________________________\n",
            "distilbert (TFDistilBertMain TFBaseModelOutput(last_hi 66362880  \n",
            "_________________________________________________________________\n",
            "tf.__operators__.getitem (Sl (None, 768)               0         \n",
            "_________________________________________________________________\n",
            "pooled_output (Dropout)      (None, 768)               0         \n",
            "_________________________________________________________________\n",
            "output (Dense)               (None, 6)                 4614      \n",
            "=================================================================\n",
            "Total params: 66,367,494\n",
            "Trainable params: 66,367,494\n",
            "Non-trainable params: 0\n",
            "_________________________________________________________________\n"
          ],
          "name": "stdout"
        }
      ]
    },
    {
      "cell_type": "markdown",
      "metadata": {
        "id": "sDOMxB1WP-DS"
      },
      "source": [
        "So we will fine-tune ~66M parameters on our dataset. That may sound like a lot, and one may be concerned with overfitting risks, but BERT has proven very robust to fine-tuning. \n",
        "\n",
        "Now we can train the model in a few lines of code!"
      ]
    },
    {
      "cell_type": "code",
      "metadata": {
        "colab": {
          "base_uri": "https://localhost:8080/"
        },
        "id": "qa3jtPWTmk16",
        "outputId": "7305717e-f6ee-4ac3-9158-bb831947f401"
      },
      "source": [
        "loss = BinaryCrossentropy()\n",
        "optimizer = Adam(5e-5)\n",
        "metrics = [\"accuracy\", \"binary_accuracy\"]\n",
        " \n",
        "model.compile(optimizer=optimizer, loss=loss, metrics=metrics)\n",
        "training_history = model.fit(\n",
        "    train_dataset.shuffle(1000).batch(16), epochs=3, batch_size=16, \n",
        "    validation_data=test_dataset.batch(16)\n",
        ")"
      ],
      "execution_count": null,
      "outputs": [
        {
          "output_type": "stream",
          "text": [
            "Epoch 1/3\n"
          ],
          "name": "stdout"
        },
        {
          "output_type": "stream",
          "text": [
            "/usr/local/lib/python3.6/dist-packages/tensorflow/python/keras/engine/functional.py:595: UserWarning: Input dict contained keys ['attention_mask'] which did not match any model input. They will be ignored by the model.\n",
            "  [n for n in tensors.keys() if n not in ref_input_names])\n"
          ],
          "name": "stderr"
        },
        {
          "output_type": "stream",
          "text": [
            "7979/7979 [==============================] - 1753s 219ms/step - loss: 0.0619 - accuracy: 0.9315 - binary_accuracy: 0.9790 - val_loss: 0.0448 - val_accuracy: 0.9921 - val_binary_accuracy: 0.9815\n",
            "Epoch 2/3\n",
            "7979/7979 [==============================] - 1735s 217ms/step - loss: 0.0376 - accuracy: 0.9496 - binary_accuracy: 0.9849 - val_loss: 0.0400 - val_accuracy: 0.9922 - val_binary_accuracy: 0.9842\n",
            "Epoch 3/3\n",
            "7979/7979 [==============================] - 1744s 219ms/step - loss: 0.0311 - accuracy: 0.9211 - binary_accuracy: 0.9874 - val_loss: 0.0442 - val_accuracy: 0.9897 - val_binary_accuracy: 0.9846\n"
          ],
          "name": "stdout"
        }
      ]
    },
    {
      "cell_type": "markdown",
      "metadata": {
        "id": "FxDe3431QDA-"
      },
      "source": [
        "The model achieves a good accuracy compared to the random model, and to the baseline. Let's run the evaluate method on the test set once more, as a sanity check."
      ]
    },
    {
      "cell_type": "code",
      "metadata": {
        "colab": {
          "base_uri": "https://localhost:8080/"
        },
        "id": "z2nvt3hlmijA",
        "outputId": "a2fc2411-9144-45f0-bd5e-67a3a056086d"
      },
      "source": [
        "benchmarks = model.evaluate(\n",
        "    test_dataset.batch(16), return_dict=True, batch_size=16\n",
        ")\n",
        "benchmarks"
      ],
      "execution_count": null,
      "outputs": [
        {
          "output_type": "stream",
          "text": [
            "1995/1995 [==============================] - 143s 71ms/step - loss: 0.0442 - accuracy: 0.9897 - binary_accuracy: 0.9846\n"
          ],
          "name": "stdout"
        },
        {
          "output_type": "execute_result",
          "data": {
            "text/plain": [
              "{'accuracy': 0.989722728729248,\n",
              " 'binary_accuracy': 0.9846078157424927,\n",
              " 'loss': 0.044167641550302505}"
            ]
          },
          "metadata": {
            "tags": []
          },
          "execution_count": 14
        }
      ]
    },
    {
      "cell_type": "markdown",
      "metadata": {
        "id": "PUz8FZDIQTUF"
      },
      "source": [
        "~99 % accuracy and binary accuracy! This model is pretty good. That is usually the point at which you would start a deeper analysis (other metrics, confusion matrix, optimal thresholds, individual examples, feature importance, ...) but this is beyond the scope of this post.\n",
        "\n",
        "We can now save our trained model. In the following cell the first few lines of code are specific to using Colab and mount your Google Drive as a local drive, for persistence (very convenient 😊). "
      ]
    },
    {
      "cell_type": "code",
      "metadata": {
        "id": "BUExJTENQS2f",
        "colab": {
          "base_uri": "https://localhost:8080/"
        },
        "outputId": "888daf8a-1768-49b6-890f-906000553ce9"
      },
      "source": [
        "from google.colab import drive\n",
        "\n",
        "drive.mount('/gdrive')  # A new tab will open and you will have to accept\n",
        "# the conditions and copy paste the token below \n",
        "BASE_PATH = \"/gdrive/My Drive/toxic_comments_transformer\"\n",
        "\n",
        "if not os.path.exists(BASE_PATH):\n",
        "    os.makedirs(BASE_PATH)\n",
        "\n",
        "model.save(f\"{BASE_PATH}/fine_tuned_distilbert\")"
      ],
      "execution_count": 25,
      "outputs": [
        {
          "output_type": "stream",
          "text": [
            "Mounted at /gdrive\n"
          ],
          "name": "stdout"
        }
      ]
    },
    {
      "cell_type": "markdown",
      "metadata": {
        "id": "vCrjy58wAt8u"
      },
      "source": [
        "## Inference\n",
        "\n",
        "Here's an example of how you'd used your shiny trained model in production, plus a measure of the typical latency that we should expect."
      ]
    },
    {
      "cell_type": "code",
      "metadata": {
        "colab": {
          "base_uri": "https://localhost:8080/"
        },
        "id": "weIggX0gppZk",
        "outputId": "f735d0ab-118d-4bcc-c411-f36a6962fba9"
      },
      "source": [
        "from time import time\n",
        "from tensorflow.keras.models import load_model\n",
        "from transformers import DistilBertTokenizerFast\n",
        "\n",
        "# Mimicking a production scenario: load the model and tokenizer\n",
        "MAX_LENGTH = 200\n",
        "model = load_model(f\"{BASE_PATH}/fine_tuned_distilbert\")\n",
        "tokenizer = DistilBertTokenizerFast.from_pretrained('distilbert-base-uncased')\n",
        "\n",
        "def score_text(text, model=model, tokenizer=tokenizer):\n",
        "    padded_encodings = tokenizer.encode_plus(\n",
        "        text,\n",
        "        max_length=MAX_LENGTH, # truncates if len(s) > max_length\n",
        "        return_token_type_ids=True,\n",
        "        return_attention_mask=True,\n",
        "        truncation=True,\n",
        "        padding='max_length',\n",
        "        return_tensors='tf'\n",
        "    )\n",
        "    return model(padded_encodings[\"input_ids\"]).numpy()\n",
        "\n",
        "score_text(\"\")  # running a dummy prediction as a work-around the extra latency of the \n",
        "# first prediction of a loaded TensorFlow model.\n",
        "\n",
        "text = \"\"\"I am a nice Wikipedia user, I mean no harm, \n",
        "I will not insult anybody or be offensive anyhow.\"\"\"\n",
        "\n",
        "t0 = time()\n",
        "scores = score_text(text)[0]\n",
        "latency = time() - t0\n",
        "\n",
        "scores = pd.Series(scores, label_names, name=\"scores\")\n",
        "print(scores.to_markdown())\n",
        "print(f\"\\nLatency: {latency:.3f} seconds\")"
      ],
      "execution_count": 52,
      "outputs": [
        {
          "output_type": "stream",
          "text": [
            "WARNING:tensorflow:5 out of the last 11 calls to <function recreate_function.<locals>.restored_function_body at 0x7fb03a183488> triggered tf.function retracing. Tracing is expensive and the excessive number of tracings could be due to (1) creating @tf.function repeatedly in a loop, (2) passing tensors with different shapes, (3) passing Python objects instead of tensors. For (1), please define your @tf.function outside of the loop. For (2), @tf.function has experimental_relax_shapes=True option that relaxes argument shapes that can avoid unnecessary retracing. For (3), please refer to https://www.tensorflow.org/guide/function#controlling_retracing and https://www.tensorflow.org/api_docs/python/tf/function for  more details.\n",
            "|               |      scores |\n",
            "|:--------------|------------:|\n",
            "| toxic         | 0.000570323 |\n",
            "| severe_toxic  | 3.81275e-05 |\n",
            "| obscene       | 0.00016416  |\n",
            "| threat        | 0.000135869 |\n",
            "| insult        | 0.000126574 |\n",
            "| identity_hate | 3.07387e-05 |\n",
            "\n",
            "Latency: 0.009 seconds\n"
          ],
          "name": "stdout"
        }
      ]
    },
    {
      "cell_type": "markdown",
      "metadata": {
        "id": "jNnhZmM0RJJc"
      },
      "source": [
        "Pretty fast! We can now use our shiny-fine-tuned-transformer in production 🎉   "
      ]
    }
  ]
}